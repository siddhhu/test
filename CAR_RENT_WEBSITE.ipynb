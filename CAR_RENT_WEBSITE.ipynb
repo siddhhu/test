{
 "cells": [
  {
   "cell_type": "code",
   "execution_count": 1,
   "metadata": {},
   "outputs": [],
   "source": [
    "# cardeetails1.csv\n",
    "\n",
    "import itertools\n",
    "import numpy as np\n",
    "import matplotlib.pyplot as plt\n",
    "from matplotlib.ticker import NullFormatter\n",
    "import pandas as pd\n",
    "import seaborn as sns\n",
    "import numpy as np\n",
    "import matplotlib.ticker as ticker\n",
    "from sklearn import preprocessing\n",
    "%matplotlib inline"
   ]
  },
  {
   "cell_type": "code",
   "execution_count": 2,
   "metadata": {},
   "outputs": [],
   "source": [
    "df = pd.read_csv(\"cardeetails1.csv\")"
   ]
  },
  {
   "cell_type": "code",
   "execution_count": 3,
   "metadata": {},
   "outputs": [
    {
     "data": {
      "text/html": [
       "<div>\n",
       "<style scoped>\n",
       "    .dataframe tbody tr th:only-of-type {\n",
       "        vertical-align: middle;\n",
       "    }\n",
       "\n",
       "    .dataframe tbody tr th {\n",
       "        vertical-align: top;\n",
       "    }\n",
       "\n",
       "    .dataframe thead th {\n",
       "        text-align: right;\n",
       "    }\n",
       "</style>\n",
       "<table border=\"1\" class=\"dataframe\">\n",
       "  <thead>\n",
       "    <tr style=\"text-align: right;\">\n",
       "      <th></th>\n",
       "      <th>Car Name</th>\n",
       "      <th>Monthly Payment</th>\n",
       "      <th>Upfront</th>\n",
       "      <th>Contract Length</th>\n",
       "      <th>Milage</th>\n",
       "      <th>Document Fee</th>\n",
       "      <th>Average Monthly Cost</th>\n",
       "      <th>Initial Payment</th>\n",
       "    </tr>\n",
       "  </thead>\n",
       "  <tbody>\n",
       "    <tr>\n",
       "      <th>0</th>\n",
       "      <td>1</td>\n",
       "      <td>412.36</td>\n",
       "      <td>9</td>\n",
       "      <td>48</td>\n",
       "      <td>10000</td>\n",
       "      <td>239.99</td>\n",
       "      <td>486.09</td>\n",
       "      <td>3711.21</td>\n",
       "    </tr>\n",
       "    <tr>\n",
       "      <th>1</th>\n",
       "      <td>1</td>\n",
       "      <td>391.39</td>\n",
       "      <td>12</td>\n",
       "      <td>48</td>\n",
       "      <td>10000</td>\n",
       "      <td>239.99</td>\n",
       "      <td>486.08</td>\n",
       "      <td>4696.68</td>\n",
       "    </tr>\n",
       "    <tr>\n",
       "      <th>2</th>\n",
       "      <td>1</td>\n",
       "      <td>512.35</td>\n",
       "      <td>1</td>\n",
       "      <td>48</td>\n",
       "      <td>15000</td>\n",
       "      <td>239.99</td>\n",
       "      <td>517.35</td>\n",
       "      <td>512.35</td>\n",
       "    </tr>\n",
       "    <tr>\n",
       "      <th>3</th>\n",
       "      <td>1</td>\n",
       "      <td>491.86</td>\n",
       "      <td>3</td>\n",
       "      <td>48</td>\n",
       "      <td>15000</td>\n",
       "      <td>239.99</td>\n",
       "      <td>517.35</td>\n",
       "      <td>1475.58</td>\n",
       "    </tr>\n",
       "    <tr>\n",
       "      <th>4</th>\n",
       "      <td>1</td>\n",
       "      <td>464.02</td>\n",
       "      <td>6</td>\n",
       "      <td>48</td>\n",
       "      <td>15000</td>\n",
       "      <td>239.99</td>\n",
       "      <td>517.36</td>\n",
       "      <td>2784.11</td>\n",
       "    </tr>\n",
       "  </tbody>\n",
       "</table>\n",
       "</div>"
      ],
      "text/plain": [
       "   Car Name  Monthly Payment  Upfront  Contract Length  Milage  Document Fee  \\\n",
       "0         1           412.36        9               48   10000        239.99   \n",
       "1         1           391.39       12               48   10000        239.99   \n",
       "2         1           512.35        1               48   15000        239.99   \n",
       "3         1           491.86        3               48   15000        239.99   \n",
       "4         1           464.02        6               48   15000        239.99   \n",
       "\n",
       "   Average Monthly Cost  Initial Payment  \n",
       "0                486.09          3711.21  \n",
       "1                486.08          4696.68  \n",
       "2                517.35           512.35  \n",
       "3                517.35          1475.58  \n",
       "4                517.36          2784.11  "
      ]
     },
     "execution_count": 3,
     "metadata": {},
     "output_type": "execute_result"
    }
   ],
   "source": [
    "df.head()"
   ]
  },
  {
   "cell_type": "code",
   "execution_count": 4,
   "metadata": {},
   "outputs": [
    {
     "data": {
      "text/plain": [
       "(1109, 8)"
      ]
     },
     "execution_count": 4,
     "metadata": {},
     "output_type": "execute_result"
    }
   ],
   "source": [
    "df.shape"
   ]
  },
  {
   "cell_type": "code",
   "execution_count": 5,
   "metadata": {},
   "outputs": [
    {
     "name": "stdout",
     "output_type": "stream",
     "text": [
      "<class 'pandas.core.frame.DataFrame'>\n",
      "RangeIndex: 1109 entries, 0 to 1108\n",
      "Data columns (total 8 columns):\n",
      " #   Column                Non-Null Count  Dtype  \n",
      "---  ------                --------------  -----  \n",
      " 0   Car Name              1109 non-null   int64  \n",
      " 1   Monthly Payment       1109 non-null   float64\n",
      " 2   Upfront               1109 non-null   int64  \n",
      " 3   Contract Length       1109 non-null   int64  \n",
      " 4   Milage                1109 non-null   int64  \n",
      " 5   Document Fee          1109 non-null   float64\n",
      " 6   Average Monthly Cost  1109 non-null   float64\n",
      " 7   Initial Payment       1109 non-null   float64\n",
      "dtypes: float64(4), int64(4)\n",
      "memory usage: 69.4 KB\n"
     ]
    }
   ],
   "source": [
    "df.info()"
   ]
  },
  {
   "cell_type": "code",
   "execution_count": 6,
   "metadata": {},
   "outputs": [
    {
     "data": {
      "text/html": [
       "<div>\n",
       "<style scoped>\n",
       "    .dataframe tbody tr th:only-of-type {\n",
       "        vertical-align: middle;\n",
       "    }\n",
       "\n",
       "    .dataframe tbody tr th {\n",
       "        vertical-align: top;\n",
       "    }\n",
       "\n",
       "    .dataframe thead th {\n",
       "        text-align: right;\n",
       "    }\n",
       "</style>\n",
       "<table border=\"1\" class=\"dataframe\">\n",
       "  <thead>\n",
       "    <tr style=\"text-align: right;\">\n",
       "      <th></th>\n",
       "      <th>Car Name</th>\n",
       "      <th>Monthly Payment</th>\n",
       "      <th>Upfront</th>\n",
       "      <th>Contract Length</th>\n",
       "      <th>Milage</th>\n",
       "      <th>Document Fee</th>\n",
       "      <th>Average Monthly Cost</th>\n",
       "      <th>Initial Payment</th>\n",
       "    </tr>\n",
       "  </thead>\n",
       "  <tbody>\n",
       "    <tr>\n",
       "      <th>count</th>\n",
       "      <td>1109.0</td>\n",
       "      <td>1109.000000</td>\n",
       "      <td>1109.000000</td>\n",
       "      <td>1109.000000</td>\n",
       "      <td>1109.000000</td>\n",
       "      <td>1.109000e+03</td>\n",
       "      <td>1109.000000</td>\n",
       "      <td>1109.000000</td>\n",
       "    </tr>\n",
       "    <tr>\n",
       "      <th>mean</th>\n",
       "      <td>1.0</td>\n",
       "      <td>529.422831</td>\n",
       "      <td>6.197475</td>\n",
       "      <td>36.638413</td>\n",
       "      <td>12795.311091</td>\n",
       "      <td>2.399900e+02</td>\n",
       "      <td>612.022011</td>\n",
       "      <td>3065.638215</td>\n",
       "    </tr>\n",
       "    <tr>\n",
       "      <th>std</th>\n",
       "      <td>0.0</td>\n",
       "      <td>106.072771</td>\n",
       "      <td>3.972577</td>\n",
       "      <td>9.911340</td>\n",
       "      <td>6824.550581</td>\n",
       "      <td>2.843453e-14</td>\n",
       "      <td>114.801126</td>\n",
       "      <td>1840.999319</td>\n",
       "    </tr>\n",
       "    <tr>\n",
       "      <th>min</th>\n",
       "      <td>1.0</td>\n",
       "      <td>311.190000</td>\n",
       "      <td>1.000000</td>\n",
       "      <td>24.000000</td>\n",
       "      <td>5000.000000</td>\n",
       "      <td>2.399900e+02</td>\n",
       "      <td>387.500000</td>\n",
       "      <td>382.500000</td>\n",
       "    </tr>\n",
       "    <tr>\n",
       "      <th>25%</th>\n",
       "      <td>1.0</td>\n",
       "      <td>452.350000</td>\n",
       "      <td>3.000000</td>\n",
       "      <td>24.000000</td>\n",
       "      <td>8000.000000</td>\n",
       "      <td>2.399900e+02</td>\n",
       "      <td>530.960000</td>\n",
       "      <td>1504.080000</td>\n",
       "    </tr>\n",
       "    <tr>\n",
       "      <th>50%</th>\n",
       "      <td>1.0</td>\n",
       "      <td>516.360000</td>\n",
       "      <td>6.000000</td>\n",
       "      <td>36.000000</td>\n",
       "      <td>10000.000000</td>\n",
       "      <td>2.399900e+02</td>\n",
       "      <td>599.920000</td>\n",
       "      <td>3111.420000</td>\n",
       "    </tr>\n",
       "    <tr>\n",
       "      <th>75%</th>\n",
       "      <td>1.0</td>\n",
       "      <td>591.980000</td>\n",
       "      <td>9.000000</td>\n",
       "      <td>48.000000</td>\n",
       "      <td>20000.000000</td>\n",
       "      <td>2.399900e+02</td>\n",
       "      <td>690.360000</td>\n",
       "      <td>4561.650000</td>\n",
       "    </tr>\n",
       "    <tr>\n",
       "      <th>max</th>\n",
       "      <td>1.0</td>\n",
       "      <td>915.830000</td>\n",
       "      <td>12.000000</td>\n",
       "      <td>48.000000</td>\n",
       "      <td>30000.000000</td>\n",
       "      <td>2.399900e+02</td>\n",
       "      <td>921.240000</td>\n",
       "      <td>7535.960000</td>\n",
       "    </tr>\n",
       "  </tbody>\n",
       "</table>\n",
       "</div>"
      ],
      "text/plain": [
       "       Car Name  Monthly Payment      Upfront  Contract Length        Milage  \\\n",
       "count    1109.0      1109.000000  1109.000000      1109.000000   1109.000000   \n",
       "mean        1.0       529.422831     6.197475        36.638413  12795.311091   \n",
       "std         0.0       106.072771     3.972577         9.911340   6824.550581   \n",
       "min         1.0       311.190000     1.000000        24.000000   5000.000000   \n",
       "25%         1.0       452.350000     3.000000        24.000000   8000.000000   \n",
       "50%         1.0       516.360000     6.000000        36.000000  10000.000000   \n",
       "75%         1.0       591.980000     9.000000        48.000000  20000.000000   \n",
       "max         1.0       915.830000    12.000000        48.000000  30000.000000   \n",
       "\n",
       "       Document Fee  Average Monthly Cost  Initial Payment  \n",
       "count  1.109000e+03           1109.000000      1109.000000  \n",
       "mean   2.399900e+02            612.022011      3065.638215  \n",
       "std    2.843453e-14            114.801126      1840.999319  \n",
       "min    2.399900e+02            387.500000       382.500000  \n",
       "25%    2.399900e+02            530.960000      1504.080000  \n",
       "50%    2.399900e+02            599.920000      3111.420000  \n",
       "75%    2.399900e+02            690.360000      4561.650000  \n",
       "max    2.399900e+02            921.240000      7535.960000  "
      ]
     },
     "execution_count": 6,
     "metadata": {},
     "output_type": "execute_result"
    }
   ],
   "source": [
    "df.describe()"
   ]
  },
  {
   "cell_type": "code",
   "execution_count": 7,
   "metadata": {},
   "outputs": [
    {
     "data": {
      "text/html": [
       "<div>\n",
       "<style scoped>\n",
       "    .dataframe tbody tr th:only-of-type {\n",
       "        vertical-align: middle;\n",
       "    }\n",
       "\n",
       "    .dataframe tbody tr th {\n",
       "        vertical-align: top;\n",
       "    }\n",
       "\n",
       "    .dataframe thead th {\n",
       "        text-align: right;\n",
       "    }\n",
       "</style>\n",
       "<table border=\"1\" class=\"dataframe\">\n",
       "  <thead>\n",
       "    <tr style=\"text-align: right;\">\n",
       "      <th></th>\n",
       "      <th>Car Name</th>\n",
       "      <th>Monthly Payment</th>\n",
       "      <th>Upfront</th>\n",
       "      <th>Contract Length</th>\n",
       "      <th>Milage</th>\n",
       "      <th>Document Fee</th>\n",
       "      <th>Average Monthly Cost</th>\n",
       "      <th>Initial Payment</th>\n",
       "    </tr>\n",
       "  </thead>\n",
       "  <tbody>\n",
       "    <tr>\n",
       "      <th>Car Name</th>\n",
       "      <td>NaN</td>\n",
       "      <td>NaN</td>\n",
       "      <td>NaN</td>\n",
       "      <td>NaN</td>\n",
       "      <td>NaN</td>\n",
       "      <td>NaN</td>\n",
       "      <td>NaN</td>\n",
       "      <td>NaN</td>\n",
       "    </tr>\n",
       "    <tr>\n",
       "      <th>Monthly Payment</th>\n",
       "      <td>NaN</td>\n",
       "      <td>1.000000e+00</td>\n",
       "      <td>-5.117455e-01</td>\n",
       "      <td>-4.337484e-01</td>\n",
       "      <td>2.403975e-01</td>\n",
       "      <td>-1.841297e-15</td>\n",
       "      <td>8.234785e-01</td>\n",
       "      <td>-2.867809e-01</td>\n",
       "    </tr>\n",
       "    <tr>\n",
       "      <th>Upfront</th>\n",
       "      <td>NaN</td>\n",
       "      <td>-5.117455e-01</td>\n",
       "      <td>1.000000e+00</td>\n",
       "      <td>-7.292100e-04</td>\n",
       "      <td>1.692027e-03</td>\n",
       "      <td>-7.724709e-18</td>\n",
       "      <td>-5.283097e-04</td>\n",
       "      <td>9.507464e-01</td>\n",
       "    </tr>\n",
       "    <tr>\n",
       "      <th>Contract Length</th>\n",
       "      <td>NaN</td>\n",
       "      <td>-4.337484e-01</td>\n",
       "      <td>-7.292100e-04</td>\n",
       "      <td>1.000000e+00</td>\n",
       "      <td>2.009580e-01</td>\n",
       "      <td>1.261600e-15</td>\n",
       "      <td>-6.513802e-01</td>\n",
       "      <td>-1.164688e-01</td>\n",
       "    </tr>\n",
       "    <tr>\n",
       "      <th>Milage</th>\n",
       "      <td>NaN</td>\n",
       "      <td>2.403975e-01</td>\n",
       "      <td>1.692027e-03</td>\n",
       "      <td>2.009580e-01</td>\n",
       "      <td>1.000000e+00</td>\n",
       "      <td>2.081708e-16</td>\n",
       "      <td>2.199614e-01</td>\n",
       "      <td>8.830212e-02</td>\n",
       "    </tr>\n",
       "    <tr>\n",
       "      <th>Document Fee</th>\n",
       "      <td>NaN</td>\n",
       "      <td>-1.841297e-15</td>\n",
       "      <td>-7.724709e-18</td>\n",
       "      <td>1.261600e-15</td>\n",
       "      <td>2.081708e-16</td>\n",
       "      <td>1.000000e+00</td>\n",
       "      <td>5.920118e-16</td>\n",
       "      <td>4.592831e-16</td>\n",
       "    </tr>\n",
       "    <tr>\n",
       "      <th>Average Monthly Cost</th>\n",
       "      <td>NaN</td>\n",
       "      <td>8.234785e-01</td>\n",
       "      <td>-5.283097e-04</td>\n",
       "      <td>-6.513802e-01</td>\n",
       "      <td>2.199614e-01</td>\n",
       "      <td>5.920118e-16</td>\n",
       "      <td>1.000000e+00</td>\n",
       "      <td>2.545991e-01</td>\n",
       "    </tr>\n",
       "    <tr>\n",
       "      <th>Initial Payment</th>\n",
       "      <td>NaN</td>\n",
       "      <td>-2.867809e-01</td>\n",
       "      <td>9.507464e-01</td>\n",
       "      <td>-1.164688e-01</td>\n",
       "      <td>8.830212e-02</td>\n",
       "      <td>4.592831e-16</td>\n",
       "      <td>2.545991e-01</td>\n",
       "      <td>1.000000e+00</td>\n",
       "    </tr>\n",
       "  </tbody>\n",
       "</table>\n",
       "</div>"
      ],
      "text/plain": [
       "                      Car Name  Monthly Payment       Upfront  \\\n",
       "Car Name                   NaN              NaN           NaN   \n",
       "Monthly Payment            NaN     1.000000e+00 -5.117455e-01   \n",
       "Upfront                    NaN    -5.117455e-01  1.000000e+00   \n",
       "Contract Length            NaN    -4.337484e-01 -7.292100e-04   \n",
       "Milage                     NaN     2.403975e-01  1.692027e-03   \n",
       "Document Fee               NaN    -1.841297e-15 -7.724709e-18   \n",
       "Average Monthly Cost       NaN     8.234785e-01 -5.283097e-04   \n",
       "Initial Payment            NaN    -2.867809e-01  9.507464e-01   \n",
       "\n",
       "                      Contract Length        Milage  Document Fee  \\\n",
       "Car Name                          NaN           NaN           NaN   \n",
       "Monthly Payment         -4.337484e-01  2.403975e-01 -1.841297e-15   \n",
       "Upfront                 -7.292100e-04  1.692027e-03 -7.724709e-18   \n",
       "Contract Length          1.000000e+00  2.009580e-01  1.261600e-15   \n",
       "Milage                   2.009580e-01  1.000000e+00  2.081708e-16   \n",
       "Document Fee             1.261600e-15  2.081708e-16  1.000000e+00   \n",
       "Average Monthly Cost    -6.513802e-01  2.199614e-01  5.920118e-16   \n",
       "Initial Payment         -1.164688e-01  8.830212e-02  4.592831e-16   \n",
       "\n",
       "                      Average Monthly Cost  Initial Payment  \n",
       "Car Name                               NaN              NaN  \n",
       "Monthly Payment               8.234785e-01    -2.867809e-01  \n",
       "Upfront                      -5.283097e-04     9.507464e-01  \n",
       "Contract Length              -6.513802e-01    -1.164688e-01  \n",
       "Milage                        2.199614e-01     8.830212e-02  \n",
       "Document Fee                  5.920118e-16     4.592831e-16  \n",
       "Average Monthly Cost          1.000000e+00     2.545991e-01  \n",
       "Initial Payment               2.545991e-01     1.000000e+00  "
      ]
     },
     "execution_count": 7,
     "metadata": {},
     "output_type": "execute_result"
    }
   ],
   "source": [
    "df.corr()"
   ]
  },
  {
   "cell_type": "code",
   "execution_count": 8,
   "metadata": {},
   "outputs": [],
   "source": [
    "\n",
    "df1 = df.drop(['Average Monthly Cost'], axis=1)"
   ]
  },
  {
   "cell_type": "code",
   "execution_count": 9,
   "metadata": {},
   "outputs": [
    {
     "data": {
      "text/html": [
       "<div>\n",
       "<style scoped>\n",
       "    .dataframe tbody tr th:only-of-type {\n",
       "        vertical-align: middle;\n",
       "    }\n",
       "\n",
       "    .dataframe tbody tr th {\n",
       "        vertical-align: top;\n",
       "    }\n",
       "\n",
       "    .dataframe thead th {\n",
       "        text-align: right;\n",
       "    }\n",
       "</style>\n",
       "<table border=\"1\" class=\"dataframe\">\n",
       "  <thead>\n",
       "    <tr style=\"text-align: right;\">\n",
       "      <th></th>\n",
       "      <th>Car Name</th>\n",
       "      <th>Monthly Payment</th>\n",
       "      <th>Upfront</th>\n",
       "      <th>Contract Length</th>\n",
       "      <th>Milage</th>\n",
       "      <th>Document Fee</th>\n",
       "      <th>Initial Payment</th>\n",
       "    </tr>\n",
       "  </thead>\n",
       "  <tbody>\n",
       "    <tr>\n",
       "      <th>0</th>\n",
       "      <td>1</td>\n",
       "      <td>412.36</td>\n",
       "      <td>9</td>\n",
       "      <td>48</td>\n",
       "      <td>10000</td>\n",
       "      <td>239.99</td>\n",
       "      <td>3711.21</td>\n",
       "    </tr>\n",
       "    <tr>\n",
       "      <th>1</th>\n",
       "      <td>1</td>\n",
       "      <td>391.39</td>\n",
       "      <td>12</td>\n",
       "      <td>48</td>\n",
       "      <td>10000</td>\n",
       "      <td>239.99</td>\n",
       "      <td>4696.68</td>\n",
       "    </tr>\n",
       "    <tr>\n",
       "      <th>2</th>\n",
       "      <td>1</td>\n",
       "      <td>512.35</td>\n",
       "      <td>1</td>\n",
       "      <td>48</td>\n",
       "      <td>15000</td>\n",
       "      <td>239.99</td>\n",
       "      <td>512.35</td>\n",
       "    </tr>\n",
       "    <tr>\n",
       "      <th>3</th>\n",
       "      <td>1</td>\n",
       "      <td>491.86</td>\n",
       "      <td>3</td>\n",
       "      <td>48</td>\n",
       "      <td>15000</td>\n",
       "      <td>239.99</td>\n",
       "      <td>1475.58</td>\n",
       "    </tr>\n",
       "    <tr>\n",
       "      <th>4</th>\n",
       "      <td>1</td>\n",
       "      <td>464.02</td>\n",
       "      <td>6</td>\n",
       "      <td>48</td>\n",
       "      <td>15000</td>\n",
       "      <td>239.99</td>\n",
       "      <td>2784.11</td>\n",
       "    </tr>\n",
       "  </tbody>\n",
       "</table>\n",
       "</div>"
      ],
      "text/plain": [
       "   Car Name  Monthly Payment  Upfront  Contract Length  Milage  Document Fee  \\\n",
       "0         1           412.36        9               48   10000        239.99   \n",
       "1         1           391.39       12               48   10000        239.99   \n",
       "2         1           512.35        1               48   15000        239.99   \n",
       "3         1           491.86        3               48   15000        239.99   \n",
       "4         1           464.02        6               48   15000        239.99   \n",
       "\n",
       "   Initial Payment  \n",
       "0          3711.21  \n",
       "1          4696.68  \n",
       "2           512.35  \n",
       "3          1475.58  \n",
       "4          2784.11  "
      ]
     },
     "execution_count": 9,
     "metadata": {},
     "output_type": "execute_result"
    }
   ],
   "source": [
    "df1.head()"
   ]
  },
  {
   "cell_type": "code",
   "execution_count": 10,
   "metadata": {},
   "outputs": [
    {
     "data": {
      "text/plain": [
       "array([ 9, 12,  1,  3,  6], dtype=int64)"
      ]
     },
     "execution_count": 10,
     "metadata": {},
     "output_type": "execute_result"
    }
   ],
   "source": [
    "df.Upfront.unique()"
   ]
  },
  {
   "cell_type": "code",
   "execution_count": 11,
   "metadata": {},
   "outputs": [
    {
     "data": {
      "text/plain": [
       "array([48, 24, 36], dtype=int64)"
      ]
     },
     "execution_count": 11,
     "metadata": {},
     "output_type": "execute_result"
    }
   ],
   "source": [
    "df['Contract Length'].unique()"
   ]
  },
  {
   "cell_type": "code",
   "execution_count": 12,
   "metadata": {},
   "outputs": [
    {
     "data": {
      "text/plain": [
       "array([10000, 15000, 20000, 30000,  5000,  8000], dtype=int64)"
      ]
     },
     "execution_count": 12,
     "metadata": {},
     "output_type": "execute_result"
    }
   ],
   "source": [
    "df['Milage'].unique()"
   ]
  },
  {
   "cell_type": "code",
   "execution_count": 13,
   "metadata": {},
   "outputs": [
    {
     "data": {
      "text/plain": [
       "array([239.99])"
      ]
     },
     "execution_count": 13,
     "metadata": {},
     "output_type": "execute_result"
    }
   ],
   "source": [
    "df['Document Fee'].unique()\n",
    "\n"
   ]
  },
  {
   "cell_type": "markdown",
   "metadata": {},
   "source": [
    "."
   ]
  },
  {
   "cell_type": "markdown",
   "metadata": {},
   "source": [
    "# HERE WE CAN SEE THAT INITIAL PAYMENT ARE MANY SO LETS GROUP IT"
   ]
  },
  {
   "cell_type": "code",
   "execution_count": 14,
   "metadata": {},
   "outputs": [
    {
     "name": "stdout",
     "output_type": "stream",
     "text": [
      "Initial Payment\n"
     ]
    },
    {
     "data": {
      "text/plain": [
       "array([3711.21, 4696.68,  512.35, ..., 2078.49, 2950.71, 3734.24])"
      ]
     },
     "execution_count": 14,
     "metadata": {},
     "output_type": "execute_result"
    }
   ],
   "source": [
    "print('Initial Payment')\n",
    "df['Initial Payment'].unique()"
   ]
  },
  {
   "cell_type": "code",
   "execution_count": 15,
   "metadata": {},
   "outputs": [
    {
     "data": {
      "text/plain": [
       "7535.96"
      ]
     },
     "execution_count": 15,
     "metadata": {},
     "output_type": "execute_result"
    }
   ],
   "source": [
    "df['Initial Payment'].max()"
   ]
  },
  {
   "cell_type": "code",
   "execution_count": 16,
   "metadata": {},
   "outputs": [
    {
     "data": {
      "text/plain": [
       "382.5"
      ]
     },
     "execution_count": 16,
     "metadata": {},
     "output_type": "execute_result"
    }
   ],
   "source": [
    "df['Initial Payment'].min()"
   ]
  },
  {
   "cell_type": "code",
   "execution_count": 17,
   "metadata": {},
   "outputs": [
    {
     "data": {
      "text/plain": [
       "count    1109.000000\n",
       "mean     3065.638215\n",
       "std      1840.999319\n",
       "min       382.500000\n",
       "25%      1504.080000\n",
       "50%      3111.420000\n",
       "75%      4561.650000\n",
       "max      7535.960000\n",
       "Name: Initial Payment, dtype: float64"
      ]
     },
     "execution_count": 17,
     "metadata": {},
     "output_type": "execute_result"
    }
   ],
   "source": [
    "df['Initial Payment'].describe()"
   ]
  },
  {
   "cell_type": "code",
   "execution_count": 18,
   "metadata": {},
   "outputs": [],
   "source": [
    "df1 = df"
   ]
  },
  {
   "cell_type": "code",
   "execution_count": 19,
   "metadata": {},
   "outputs": [],
   "source": [
    "\n",
    "bins = [0,2000,5000,8000]\n",
    "group = ['0_2000','2000-5000','5000-8000']\n",
    "df1['Initial Payment group'] = pd.cut(df['Initial Payment'],bins,labels=group)\n"
   ]
  },
  {
   "cell_type": "code",
   "execution_count": 20,
   "metadata": {},
   "outputs": [
    {
     "name": "stdout",
     "output_type": "stream",
     "text": [
      "Monthly Payment        311.19  316.97  324.25  324.81  327.26  327.86  331.83  \\\n",
      "Initial Payment group                                                           \n",
      "0_2000                      0       0       0       0       0       0       0   \n",
      "2000-5000                   1       1       1       1       1       1       1   \n",
      "5000-8000                   0       0       0       0       0       0       0   \n",
      "\n",
      "Monthly Payment        333.96  335.69  336.47  ...  843.74  845.38  845.78  \\\n",
      "Initial Payment group                          ...                           \n",
      "0_2000                      0       0       0  ...       1       0       1   \n",
      "2000-5000                   1       1       1  ...       0       1       0   \n",
      "5000-8000                   0       0       0  ...       0       0       0   \n",
      "\n",
      "Monthly Payment        852.33  854.28  857.04  858.53  909.01  912.78  915.83  \n",
      "Initial Payment group                                                          \n",
      "0_2000                      1       1       1       1       1       1       1  \n",
      "2000-5000                   0       0       0       0       0       0       0  \n",
      "5000-8000                   0       0       0       0       0       0       0  \n",
      "\n",
      "[3 rows x 1095 columns]\n"
     ]
    },
    {
     "data": {
      "image/png": "[encoded data removed]",
      "text/plain": [
       "<Figure size 432x288 with 1 Axes>"
      ]
     },
     "metadata": {
      "needs_background": "light"
     },
     "output_type": "display_data"
    }
   ],
   "source": [
    "print(pd.crosstab(df1['Initial Payment group'],df1['Monthly Payment']))\n",
    "import matplotlib.pyplot as plt\n",
    "fig = plt.figure()\n",
    "ax = fig.add_axes([0,0,1,1])\n",
    "ax.bar(df1['Initial Payment group'],df1['Monthly Payment'])\n",
    "plt.xticks(rotation=-45)\n",
    "plt.xlabel('Initial Payment')\n",
    "plt.ylabel('Monthly Payment')\n",
    "plt.show()\n"
   ]
  },
  {
   "cell_type": "markdown",
   "metadata": {},
   "source": [
    "## HERE WE CAN SHOW THAT PEOPLE WHO PAID LESS AMOUNT IN INITIAL STAGE HAVE TO PAY MORE MOUNTHLY WISE."
   ]
  },
  {
   "cell_type": "markdown",
   "metadata": {},
   "source": [
    ".\n",
    "\n",
    "\n",
    "\n"
   ]
  },
  {
   "cell_type": "markdown",
   "metadata": {},
   "source": [
    "## Seeing Contract Length relation with Monthly Payment"
   ]
  },
  {
   "cell_type": "code",
   "execution_count": 21,
   "metadata": {},
   "outputs": [
    {
     "data": {
      "image/png": "[encoded data removed]",
      "text/plain": [
       "<Figure size 432x288 with 1 Axes>"
      ]
     },
     "metadata": {
      "needs_background": "light"
     },
     "output_type": "display_data"
    }
   ],
   "source": [
    "import matplotlib.pyplot as plt\n",
    "fig = plt.figure()\n",
    "ax = fig.add_axes([0,0,1,1])\n",
    "ax.bar(df1['Contract Length'],df1['Monthly Payment'])\n",
    "\n",
    "plt.xlabel('Contract Length')\n",
    "plt.ylabel('Monthly Payment')\n",
    "plt.show()"
   ]
  },
  {
   "cell_type": "code",
   "execution_count": 22,
   "metadata": {},
   "outputs": [
    {
     "data": {
      "image/png": "[encoded data removed]",
      "text/plain": [
       "<Figure size 432x288 with 1 Axes>"
      ]
     },
     "metadata": {
      "needs_background": "light"
     },
     "output_type": "display_data"
    }
   ],
   "source": [
    "fig = plt.figure()\n",
    "ax = fig.add_axes([0,0,1,1])\n",
    "ax.bar(df1['Upfront'],df1['Monthly Payment'])\n",
    "\n",
    "plt.xlabel('Upfront')\n",
    "plt.ylabel('Monthly Payment')\n",
    "plt.show()"
   ]
  },
  {
   "cell_type": "code",
   "execution_count": 23,
   "metadata": {},
   "outputs": [
    {
     "data": {
      "text/plain": [
       "20000    210\n",
       "15000    210\n",
       "5000     208\n",
       "10000    206\n",
       "8000     205\n",
       "30000     70\n",
       "Name: Milage, dtype: int64"
      ]
     },
     "execution_count": 23,
     "metadata": {},
     "output_type": "execute_result"
    }
   ],
   "source": [
    "df1['Milage'].value_counts()"
   ]
  },
  {
   "cell_type": "markdown",
   "metadata": {},
   "source": [
    "#   ------------------------------------------------- ML---------------------------------------------------"
   ]
  },
  {
   "cell_type": "code",
   "execution_count": 24,
   "metadata": {},
   "outputs": [
    {
     "data": {
      "text/plain": [
       "Car Name                 0\n",
       "Monthly Payment          0\n",
       "Upfront                  0\n",
       "Contract Length          0\n",
       "Milage                   0\n",
       "Document Fee             0\n",
       "Average Monthly Cost     0\n",
       "Initial Payment          0\n",
       "Initial Payment group    0\n",
       "dtype: int64"
      ]
     },
     "execution_count": 24,
     "metadata": {},
     "output_type": "execute_result"
    }
   ],
   "source": [
    "df1.isnull().sum()"
   ]
  },
  {
   "cell_type": "code",
   "execution_count": 25,
   "metadata": {},
   "outputs": [
    {
     "data": {
      "text/plain": [
       "array([1], dtype=int64)"
      ]
     },
     "execution_count": 25,
     "metadata": {},
     "output_type": "execute_result"
    }
   ],
   "source": [
    "df1['Car Name'].unique()"
   ]
  },
  {
   "cell_type": "code",
   "execution_count": 26,
   "metadata": {},
   "outputs": [],
   "source": [
    "y = df1['Monthly Payment']"
   ]
  },
  {
   "cell_type": "code",
   "execution_count": 27,
   "metadata": {},
   "outputs": [
    {
     "data": {
      "text/plain": [
       "Car Name             int64\n",
       "Upfront              int64\n",
       "Contract Length      int64\n",
       "Milage               int64\n",
       "Document Fee       float64\n",
       "Initial Payment    float64\n",
       "dtype: object"
      ]
     },
     "execution_count": 27,
     "metadata": {},
     "output_type": "execute_result"
    }
   ],
   "source": [
    "df2 = df\n",
    "drops = ['Initial Payment group','Average Monthly Cost','Monthly Payment']\n",
    "df2 = df2.drop(drops,axis=1)\n",
    "df2.dtypes"
   ]
  },
  {
   "cell_type": "code",
   "execution_count": 28,
   "metadata": {},
   "outputs": [],
   "source": [
    "from sklearn.model_selection import train_test_split\n",
    "X_train, X_valid, y_train, y_valid = train_test_split(df2, y,\n",
    "                                                      train_size=0.7, test_size=0.3,\n",
    "                                                      random_state=0)\n",
    "\n",
    "from sklearn.ensemble import RandomForestRegressor\n",
    "from sklearn.metrics import mean_absolute_error\n"
   ]
  },
  {
   "cell_type": "code",
   "execution_count": 29,
   "metadata": {},
   "outputs": [],
   "source": [
    "s = (X_train.dtypes == 'object')\n",
    "object_cols = list(s[s].index)"
   ]
  },
  {
   "cell_type": "code",
   "execution_count": 30,
   "metadata": {},
   "outputs": [
    {
     "data": {
      "text/html": [
       "<div>\n",
       "<style scoped>\n",
       "    .dataframe tbody tr th:only-of-type {\n",
       "        vertical-align: middle;\n",
       "    }\n",
       "\n",
       "    .dataframe tbody tr th {\n",
       "        vertical-align: top;\n",
       "    }\n",
       "\n",
       "    .dataframe thead th {\n",
       "        text-align: right;\n",
       "    }\n",
       "</style>\n",
       "<table border=\"1\" class=\"dataframe\">\n",
       "  <thead>\n",
       "    <tr style=\"text-align: right;\">\n",
       "      <th></th>\n",
       "      <th>Car Name</th>\n",
       "      <th>Upfront</th>\n",
       "      <th>Contract Length</th>\n",
       "      <th>Milage</th>\n",
       "      <th>Document Fee</th>\n",
       "      <th>Initial Payment</th>\n",
       "    </tr>\n",
       "  </thead>\n",
       "  <tbody>\n",
       "    <tr>\n",
       "      <th>143</th>\n",
       "      <td>1</td>\n",
       "      <td>3</td>\n",
       "      <td>36</td>\n",
       "      <td>20000</td>\n",
       "      <td>239.99</td>\n",
       "      <td>2024.70</td>\n",
       "    </tr>\n",
       "    <tr>\n",
       "      <th>158</th>\n",
       "      <td>1</td>\n",
       "      <td>3</td>\n",
       "      <td>48</td>\n",
       "      <td>10000</td>\n",
       "      <td>239.99</td>\n",
       "      <td>1635.06</td>\n",
       "    </tr>\n",
       "    <tr>\n",
       "      <th>40</th>\n",
       "      <td>1</td>\n",
       "      <td>9</td>\n",
       "      <td>24</td>\n",
       "      <td>20000</td>\n",
       "      <td>239.99</td>\n",
       "      <td>5416.88</td>\n",
       "    </tr>\n",
       "    <tr>\n",
       "      <th>630</th>\n",
       "      <td>1</td>\n",
       "      <td>9</td>\n",
       "      <td>48</td>\n",
       "      <td>5000</td>\n",
       "      <td>239.99</td>\n",
       "      <td>3487.18</td>\n",
       "    </tr>\n",
       "    <tr>\n",
       "      <th>432</th>\n",
       "      <td>1</td>\n",
       "      <td>1</td>\n",
       "      <td>24</td>\n",
       "      <td>15000</td>\n",
       "      <td>239.99</td>\n",
       "      <td>814.04</td>\n",
       "    </tr>\n",
       "  </tbody>\n",
       "</table>\n",
       "</div>"
      ],
      "text/plain": [
       "     Car Name  Upfront  Contract Length  Milage  Document Fee  Initial Payment\n",
       "143         1        3               36   20000        239.99          2024.70\n",
       "158         1        3               48   10000        239.99          1635.06\n",
       "40          1        9               24   20000        239.99          5416.88\n",
       "630         1        9               48    5000        239.99          3487.18\n",
       "432         1        1               24   15000        239.99           814.04"
      ]
     },
     "execution_count": 30,
     "metadata": {},
     "output_type": "execute_result"
    }
   ],
   "source": [
    "from sklearn.preprocessing import LabelEncoder\n",
    "\n",
    "# Make copy to avoid changing original data \n",
    "label_X_train = X_train.copy()\n",
    "label_X_valid = X_valid.copy()\n",
    "\n",
    "# Apply label encoder to each column with categorical data\n",
    "label_encoder = LabelEncoder()\n",
    "for col in object_cols:\n",
    "    label_X_train[col] = label_encoder.fit_transform(X_train[col])\n",
    "    label_X_valid[col] = label_encoder.transform(X_valid[col])\n",
    "label_X_train.head()"
   ]
  },
  {
   "cell_type": "code",
   "execution_count": 31,
   "metadata": {},
   "outputs": [
    {
     "data": {
      "text/plain": [
       "array([1], dtype=int64)"
      ]
     },
     "execution_count": 31,
     "metadata": {},
     "output_type": "execute_result"
    }
   ],
   "source": [
    "label_X_train['Car Name'].unique()"
   ]
  },
  {
   "cell_type": "code",
   "execution_count": 32,
   "metadata": {},
   "outputs": [
    {
     "data": {
      "text/plain": [
       "array([1], dtype=int64)"
      ]
     },
     "execution_count": 32,
     "metadata": {},
     "output_type": "execute_result"
    }
   ],
   "source": [
    "df['Car Name'].unique()"
   ]
  },
  {
   "cell_type": "code",
   "execution_count": 33,
   "metadata": {},
   "outputs": [],
   "source": [
    "#df[\"Customer Number\"] = df['Customer Number'].astype('int')\n",
    "\n",
    "label_X_train = label_X_train.astype(int)\n",
    "label_X_valid = label_X_valid.astype(int)\n",
    "y_train = y_train.astype(int)\n",
    "y_valid = y_valid.astype(int)"
   ]
  },
  {
   "cell_type": "code",
   "execution_count": 34,
   "metadata": {},
   "outputs": [],
   "source": [
    "from sklearn.ensemble import RandomForestClassifier\n",
    "\n",
    "#Create a Gaussian Classifier\n",
    "clf=RandomForestClassifier(n_estimators=1)\n",
    "\n",
    "#Train the model using the training sets y_pred=clf.predict(X_test)\n",
    "clf.fit(label_X_train,y_train)\n",
    "\n",
    "\n",
    "x = clf.predict(label_X_valid)\n"
   ]
  },
  {
   "cell_type": "code",
   "execution_count": 35,
   "metadata": {},
   "outputs": [
    {
     "data": {
      "text/html": [
       "<div>\n",
       "<style scoped>\n",
       "    .dataframe tbody tr th:only-of-type {\n",
       "        vertical-align: middle;\n",
       "    }\n",
       "\n",
       "    .dataframe tbody tr th {\n",
       "        vertical-align: top;\n",
       "    }\n",
       "\n",
       "    .dataframe thead th {\n",
       "        text-align: right;\n",
       "    }\n",
       "</style>\n",
       "<table border=\"1\" class=\"dataframe\">\n",
       "  <thead>\n",
       "    <tr style=\"text-align: right;\">\n",
       "      <th></th>\n",
       "      <th>Car Name</th>\n",
       "      <th>Upfront</th>\n",
       "      <th>Contract Length</th>\n",
       "      <th>Milage</th>\n",
       "      <th>Document Fee</th>\n",
       "      <th>Initial Payment</th>\n",
       "    </tr>\n",
       "  </thead>\n",
       "  <tbody>\n",
       "    <tr>\n",
       "      <th>898</th>\n",
       "      <td>1</td>\n",
       "      <td>12</td>\n",
       "      <td>36</td>\n",
       "      <td>5000</td>\n",
       "      <td>239</td>\n",
       "      <td>5403</td>\n",
       "    </tr>\n",
       "    <tr>\n",
       "      <th>983</th>\n",
       "      <td>1</td>\n",
       "      <td>9</td>\n",
       "      <td>48</td>\n",
       "      <td>8000</td>\n",
       "      <td>239</td>\n",
       "      <td>4092</td>\n",
       "    </tr>\n",
       "    <tr>\n",
       "      <th>1085</th>\n",
       "      <td>1</td>\n",
       "      <td>9</td>\n",
       "      <td>48</td>\n",
       "      <td>15000</td>\n",
       "      <td>239</td>\n",
       "      <td>3312</td>\n",
       "    </tr>\n",
       "    <tr>\n",
       "      <th>493</th>\n",
       "      <td>1</td>\n",
       "      <td>3</td>\n",
       "      <td>48</td>\n",
       "      <td>30000</td>\n",
       "      <td>239</td>\n",
       "      <td>2152</td>\n",
       "    </tr>\n",
       "    <tr>\n",
       "      <th>847</th>\n",
       "      <td>1</td>\n",
       "      <td>6</td>\n",
       "      <td>24</td>\n",
       "      <td>10000</td>\n",
       "      <td>239</td>\n",
       "      <td>3069</td>\n",
       "    </tr>\n",
       "    <tr>\n",
       "      <th>...</th>\n",
       "      <td>...</td>\n",
       "      <td>...</td>\n",
       "      <td>...</td>\n",
       "      <td>...</td>\n",
       "      <td>...</td>\n",
       "      <td>...</td>\n",
       "    </tr>\n",
       "    <tr>\n",
       "      <th>442</th>\n",
       "      <td>1</td>\n",
       "      <td>1</td>\n",
       "      <td>36</td>\n",
       "      <td>5000</td>\n",
       "      <td>239</td>\n",
       "      <td>591</td>\n",
       "    </tr>\n",
       "    <tr>\n",
       "      <th>685</th>\n",
       "      <td>1</td>\n",
       "      <td>9</td>\n",
       "      <td>36</td>\n",
       "      <td>5000</td>\n",
       "      <td>239</td>\n",
       "      <td>4092</td>\n",
       "    </tr>\n",
       "    <tr>\n",
       "      <th>420</th>\n",
       "      <td>1</td>\n",
       "      <td>9</td>\n",
       "      <td>24</td>\n",
       "      <td>5000</td>\n",
       "      <td>239</td>\n",
       "      <td>4914</td>\n",
       "    </tr>\n",
       "    <tr>\n",
       "      <th>831</th>\n",
       "      <td>1</td>\n",
       "      <td>3</td>\n",
       "      <td>24</td>\n",
       "      <td>20000</td>\n",
       "      <td>239</td>\n",
       "      <td>1768</td>\n",
       "    </tr>\n",
       "    <tr>\n",
       "      <th>268</th>\n",
       "      <td>1</td>\n",
       "      <td>3</td>\n",
       "      <td>24</td>\n",
       "      <td>10000</td>\n",
       "      <td>239</td>\n",
       "      <td>1716</td>\n",
       "    </tr>\n",
       "  </tbody>\n",
       "</table>\n",
       "<p>111 rows × 6 columns</p>\n",
       "</div>"
      ],
      "text/plain": [
       "      Car Name  Upfront  Contract Length  Milage  Document Fee  \\\n",
       "898          1       12               36    5000           239   \n",
       "983          1        9               48    8000           239   \n",
       "1085         1        9               48   15000           239   \n",
       "493          1        3               48   30000           239   \n",
       "847          1        6               24   10000           239   \n",
       "...        ...      ...              ...     ...           ...   \n",
       "442          1        1               36    5000           239   \n",
       "685          1        9               36    5000           239   \n",
       "420          1        9               24    5000           239   \n",
       "831          1        3               24   20000           239   \n",
       "268          1        3               24   10000           239   \n",
       "\n",
       "      Initial Payment  \n",
       "898              5403  \n",
       "983              4092  \n",
       "1085             3312  \n",
       "493              2152  \n",
       "847              3069  \n",
       "...               ...  \n",
       "442               591  \n",
       "685              4092  \n",
       "420              4914  \n",
       "831              1768  \n",
       "268              1716  \n",
       "\n",
       "[111 rows x 6 columns]"
      ]
     },
     "execution_count": 35,
     "metadata": {},
     "output_type": "execute_result"
    }
   ],
   "source": [
    "from sklearn.model_selection import train_test_split\n",
    "X_train, X_valid, y_train, y_valid = train_test_split(df2, y,\n",
    "                                                      train_size=0.90, test_size=0.10,\n",
    "                                                      random_state=0)\n",
    "\n",
    "\n",
    "\n",
    "\n",
    "s = (X_train.dtypes == 'object')\n",
    "object_cols = list(s[s].index)\n",
    "\n",
    "from sklearn.preprocessing import LabelEncoder\n",
    "\n",
    "\n",
    "label_X_train = X_train.copy()\n",
    "label_X_valid = X_valid.copy()\n",
    "\n",
    "label_encoder = LabelEncoder()\n",
    "for col in object_cols:\n",
    "    label_X_train[col] = label_encoder.fit_transform(X_train[col])\n",
    "    label_X_valid[col] = label_encoder.transform(X_valid[col])\n",
    "label_X_train.head()\n",
    "\n",
    "\n",
    "\n",
    "label_X_train = label_X_train.astype(int)\n",
    "label_X_valid = label_X_valid.astype(int)\n",
    "y_train = y_train.astype(int)\n",
    "y_valid = y_valid.astype(int)\n",
    "\n",
    "\n",
    "from sklearn.ensemble import RandomForestRegressor\n",
    "from sklearn.metrics import mean_absolute_error\n",
    "\n",
    "from sklearn.ensemble import RandomForestClassifier\n",
    "\n",
    "clf=RandomForestClassifier(n_estimators=450)\n",
    "\n",
    "clf.fit(label_X_train,y_train)\n",
    "\n",
    "\n",
    "x = clf.predict(label_X_valid)\n",
    "\n",
    "label_X_valid\n"
   ]
  },
  {
   "cell_type": "markdown",
   "metadata": {},
   "source": [
    "## R-Squared model"
   ]
  },
  {
   "cell_type": "code",
   "execution_count": 36,
   "metadata": {},
   "outputs": [
    {
     "data": {
      "text/plain": [
       "0.9963637724426034"
      ]
     },
     "execution_count": 36,
     "metadata": {},
     "output_type": "execute_result"
    }
   ],
   "source": [
    "from sklearn.metrics import r2_score\n",
    "r2_score(x, y_valid)"
   ]
  },
  {
   "cell_type": "markdown",
   "metadata": {},
   "source": [
    "# MAE"
   ]
  },
  {
   "cell_type": "code",
   "execution_count": 37,
   "metadata": {},
   "outputs": [
    {
     "data": {
      "text/plain": [
       "5.684684684684685"
      ]
     },
     "execution_count": 37,
     "metadata": {},
     "output_type": "execute_result"
    }
   ],
   "source": [
    "from sklearn.metrics import mean_absolute_error\n",
    "mean_absolute_error(x, y_valid)"
   ]
  },
  {
   "cell_type": "code",
   "execution_count": 38,
   "metadata": {},
   "outputs": [
    {
     "data": {
      "text/plain": [
       "['car_new1.pkl']"
      ]
     },
     "execution_count": 38,
     "metadata": {},
     "output_type": "execute_result"
    }
   ],
   "source": [
    "import joblib\n",
    "# Save the model as a pickle in a file \n",
    "joblib.dump(clf, 'car_new1.pkl') "
   ]
  },
  {
   "cell_type": "code",
   "execution_count": null,
   "metadata": {},
   "outputs": [],
   "source": []
  }
 ],
 "metadata": {
  "kernelspec": {
   "display_name": "Python 3",
   "language": "python",
   "name": "python3"
  },
  "language_info": {
   "codemirror_mode": {
    "name": "ipython",
    "version": 3
   },
   "file_extension": ".py",
   "mimetype": "text/x-python",
   "name": "python",
   "nbconvert_exporter": "python",
   "pygments_lexer": "ipython3",
   "version": "3.8.3"
  }
 },
 "nbformat": 4,
 "nbformat_minor": 4
}
